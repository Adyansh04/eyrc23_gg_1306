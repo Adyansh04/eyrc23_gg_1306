{
 "cells": [
  {
   "cell_type": "code",
   "execution_count": 3,
   "id": "3de5ed5e",
   "metadata": {},
   "outputs": [
    {
     "name": "stdout",
     "output_type": "stream",
     "text": [
      "LeaveOrNot                   1.000000\n",
      "PaymentTier_2                0.266664\n",
      "Gender_Female                0.220276\n",
      "City_Pune                    0.205955\n",
      "JoiningYear                  0.182318\n",
      "Education_Masters            0.144825\n",
      "EverBenched_Yes              0.076994\n",
      "PaymentTier_1                0.010616\n",
      "ExperienceInCurrentDomain   -0.031617\n",
      "City_New Delhi              -0.032793\n",
      "Education_PHD               -0.038930\n",
      "Age                         -0.049213\n",
      "EverBenched_No              -0.076994\n",
      "Education_Bachelors         -0.117197\n",
      "City_Bangalore              -0.155114\n",
      "Gender_Male                 -0.220276\n",
      "PaymentTier_3               -0.250776\n",
      "Name: LeaveOrNot, dtype: float64\n"
     ]
    }
   ],
   "source": [
    "import pandas as pd\n",
    "\n",
    "# Load your dataset\n",
    "df = pd.read_csv('task_1a_dataset.csv')\n",
    "\n",
    "# Perform one-hot encoding for categorical columns\n",
    "df_encoded = pd.get_dummies(df, columns=['Education', 'City', 'PaymentTier', 'Gender', 'EverBenched'])\n",
    "\n",
    "# Calculate the correlation matrix\n",
    "correlation_matrix = df_encoded.corr()\n",
    "\n",
    "# Extract the correlation of each feature with the target column\n",
    "correlation_with_target = correlation_matrix['LeaveOrNot'].sort_values(ascending=False)\n",
    "\n",
    "# Print the correlation of each feature with the target column\n",
    "print(correlation_with_target)\n"
   ]
  },
  {
   "cell_type": "code",
   "execution_count": 5,
   "id": "2d3354ab",
   "metadata": {},
   "outputs": [
    {
     "name": "stdout",
     "output_type": "stream",
     "text": [
      "JoiningYear                  0.333061\n",
      "Age                          0.175414\n",
      "PaymentTier                  0.086696\n",
      "ExperienceInCurrentDomain    0.086693\n",
      "City_Pune                    0.063607\n",
      "Education_Masters            0.051592\n",
      "Gender_Female                0.045543\n",
      "Gender_Male                  0.039749\n",
      "Education_Bachelors          0.037668\n",
      "City_New Delhi               0.028583\n",
      "City_Bangalore               0.026882\n",
      "Education_PHD                0.009252\n",
      "EverBenched_Yes              0.007766\n",
      "EverBenched_No               0.007495\n",
      "dtype: float64\n"
     ]
    }
   ],
   "source": [
    "import pandas as pd\n",
    "from sklearn.ensemble import RandomForestClassifier\n",
    "\n",
    "# Load your dataset\n",
    "data = pd.read_csv('task_1a_dataset.csv')\n",
    "\n",
    "# Separate features (X) and target (y)\n",
    "X = data.drop('LeaveOrNot', axis=1)\n",
    "y = data['LeaveOrNot']\n",
    "\n",
    "# Perform one-hot encoding for categorical features\n",
    "X = pd.get_dummies(X, columns=['Education', 'City', 'Gender', 'EverBenched'])\n",
    "\n",
    "# Create a random forest classifier\n",
    "rf_classifier = RandomForestClassifier()\n",
    "\n",
    "# Fit the classifier to the data\n",
    "rf_classifier.fit(X, y)\n",
    "\n",
    "# Get feature importances\n",
    "feature_importances = pd.Series(rf_classifier.feature_importances_, index=X.columns)\n",
    "\n",
    "# Sort features by importance in descending order\n",
    "sorted_features = feature_importances.sort_values(ascending=False)\n",
    "\n",
    "# Print feature importances\n",
    "print(sorted_features)"
   ]
  }
 ],
 "metadata": {
  "kernelspec": {
   "display_name": "GG_1306",
   "language": "python",
   "name": "gg_1306"
  },
  "language_info": {
   "codemirror_mode": {
    "name": "ipython",
    "version": 3
   },
   "file_extension": ".py",
   "mimetype": "text/x-python",
   "name": "python",
   "nbconvert_exporter": "python",
   "pygments_lexer": "ipython3",
   "version": "3.9.18"
  }
 },
 "nbformat": 4,
 "nbformat_minor": 5
}
